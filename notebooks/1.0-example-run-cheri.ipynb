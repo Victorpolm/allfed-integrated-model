{
  "nbformat": 4,
  "nbformat_minor": 5,
  "metadata": {
    "kernelspec": {
      "display_name": "Python 3",
      "language": "python",
      "name": "python3"
    },
    "language_info": {
      "codemirror_mode": {
        "name": "ipython",
        "version": 3
      },
      "file_extension": ".py",
      "mimetype": "text/x-python",
      "name": "python",
      "nbconvert_exporter": "python",
      "pygments_lexer": "ipython3",
      "version": "3.9.4"
    },
    "colab": {
      "name": "1.0-example-run-cheri.ipynb",
      "provenance": [],
      "include_colab_link": true
    }
  },
  "cells": [
    {
      "cell_type": "markdown",
      "metadata": {
        "id": "view-in-github",
        "colab_type": "text"
      },
      "source": [
        "<a href=\"https://colab.research.google.com/github/allfed/allfed-integrated-model/blob/main/notebooks/1.0-example-run-cheri.ipynb\" target=\"_parent\"><img src=\"https://colab.research.google.com/assets/colab-badge.svg\" alt=\"Open In Colab\"/></a>"
      ]
    },
    {
      "cell_type": "code",
      "metadata": {
        "id": "vMlGmHqjXRP0"
      },
      "source": [
        "# Run if using Colab\n",
        "!pip install pulp\n",
        "!git clone https://github.com/allfed/allfed-integrated-model.git\n",
        "!cp -r allfed-integrated-model/* ."
      ],
      "id": "vMlGmHqjXRP0",
      "execution_count": null,
      "outputs": []
    },
    {
      "cell_type": "code",
      "metadata": {
        "id": "generic-serve"
      },
      "source": [
        "# Allow access to src folder from notebook\n",
        "import sys, os, inspect\n",
        "currentdir = os.path.dirname(os.path.abspath(inspect.getfile(inspect.currentframe())))\n",
        "parentdir = os.path.dirname(currentdir)\n",
        "sys.path.insert(0, parentdir)"
      ],
      "id": "generic-serve",
      "execution_count": null,
      "outputs": []
    },
    {
      "cell_type": "code",
      "metadata": {
        "id": "animated-finland"
      },
      "source": [
        "# Import modelling code\n",
        "from src import cheri"
      ],
      "id": "animated-finland",
      "execution_count": null,
      "outputs": []
    },
    {
      "cell_type": "code",
      "metadata": {
        "id": "5fbc5d66-151e-4939-9a36-91af3a8a3be5"
      },
      "source": [
        "# Run the model\n",
        "cheri.run()"
      ],
      "id": "5fbc5d66-151e-4939-9a36-91af3a8a3be5",
      "execution_count": null,
      "outputs": []
    },
    {
      "cell_type": "code",
      "metadata": {
        "id": "b2e1727a-61ef-432e-bda6-5e3d471a7c6b"
      },
      "source": [
        ""
      ],
      "id": "b2e1727a-61ef-432e-bda6-5e3d471a7c6b",
      "execution_count": null,
      "outputs": []
    }
  ]
}