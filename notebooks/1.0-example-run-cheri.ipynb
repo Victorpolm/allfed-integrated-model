{
 "cells": [
  {
   "cell_type": "code",
   "execution_count": 1,
   "id": "generic-serve",
   "metadata": {},
   "outputs": [],
   "source": [
    "# Allow access to src folder from notebook\n",
    "import sys, os, inspect\n",
    "currentdir = os.path.dirname(os.path.abspath(inspect.getfile(inspect.currentframe())))\n",
    "parentdir = os.path.dirname(currentdir)\n",
    "sys.path.insert(0, parentdir)"
   ]
  },
  {
   "cell_type": "code",
   "execution_count": 2,
   "id": "animated-finland",
   "metadata": {},
   "outputs": [],
   "source": [
    "# Import modelling code\n",
    "from src import cheri"
   ]
  },
  {
   "cell_type": "code",
   "execution_count": 3,
   "id": "5fbc5d66-151e-4939-9a36-91af3a8a3be5",
   "metadata": {},
   "outputs": [
    {
     "name": "stdout",
     "output_type": "stream",
     "text": [
      "objective: 734024180000.0\n",
      "Area_Hectares: 500000000.0\n",
      "Calories: 4354145100000000.0\n",
      "Fat: 262707250000000.0\n",
      "Fibers: 100.0\n",
      "Greenhouse_crops: 0.0\n",
      "Natural_Gas: 100000.0\n",
      "Nitrogen_Fertilizer: 73000.0\n",
      "Outdoor_crop: 0.0\n",
      "Plastic: 0.0\n",
      "Protein: 44041451000000.0\n",
      "Ruminants: 50000000000.0\n",
      "Seaweed: 0.0\n",
      "Single_cell_protein: 0.0\n",
      "Sugar: 2127072500000.0\n",
      "Wood: 0.0\n",
      "minimum_value_nutrition: 734024180000.0\n"
     ]
    }
   ],
   "source": [
    "# Run the model\n",
    "cheri.run()"
   ]
  },
  {
   "cell_type": "code",
   "execution_count": null,
   "id": "b2e1727a-61ef-432e-bda6-5e3d471a7c6b",
   "metadata": {},
   "outputs": [],
   "source": []
  }
 ],
 "metadata": {
  "kernelspec": {
   "display_name": "Python 3",
   "language": "python",
   "name": "python3"
  },
  "language_info": {
   "codemirror_mode": {
    "name": "ipython",
    "version": 3
   },
   "file_extension": ".py",
   "mimetype": "text/x-python",
   "name": "python",
   "nbconvert_exporter": "python",
   "pygments_lexer": "ipython3",
   "version": "3.9.4"
  }
 },
 "nbformat": 4,
 "nbformat_minor": 5
}
